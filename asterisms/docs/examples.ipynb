{
 "metadata": {
  "name": "",
  "signature": "sha256:18af331ebce3f10e74895bd0840397fce24da08d04c295123515d205c619e577"
 },
 "nbformat": 3,
 "nbformat_minor": 0,
 "worksheets": [
  {
   "cells": [
    {
     "cell_type": "markdown",
     "metadata": {},
     "source": [
      "#Examples\n",
      "\n",
      "Asterisms is intended to aid in logging of historical asterisms. Whenever possible, I am going to follow conventions of parallel projects so that there is the utmost compatibility possible. I think usage and facilitating sharing of information is a big part of the project. To that end, some of these examples show how to accomplish the equivalent *without* Asterisms. This could be helpful, if you don't want an extra dependency. It could also help you seamlessly drop in the Asterisms project."
     ]
    },
    {
     "cell_type": "code",
     "collapsed": false,
     "input": [
      "import asterisms as a\n",
      "print('using Asterisms version %s' % a.__version__)"
     ],
     "language": "python",
     "metadata": {},
     "outputs": [
      {
       "output_type": "stream",
       "stream": "stdout",
       "text": [
        "using Asterisms version 0.02\n"
       ]
      }
     ],
     "prompt_number": 1
    },
    {
     "cell_type": "markdown",
     "metadata": {},
     "source": [
      "##Format\n",
      "A note on format and compatibility. Constellation/asterism format is historically based on the Stellarium (who else uses it?) `constellationship.fab` files. See the R.A. Rey asterism files for example. The other asterism format I chose, was because I didn't see a point in having two files, when you could have one text file.\n",
      "\n",
      "Whenever possible, I am deferring position, units, and vector format decisions to the Skyfield project, which I am going to leverage."
     ]
    },
    {
     "cell_type": "code",
     "collapsed": false,
     "input": [
      "import skyfield\n",
      "print('using Skyfield version %s' % skyfield.__version__)"
     ],
     "language": "python",
     "metadata": {},
     "outputs": [
      {
       "output_type": "stream",
       "stream": "stdout",
       "text": [
        "using Skyfield version 0.4\n"
       ]
      }
     ],
     "prompt_number": 2
    },
    {
     "cell_type": "markdown",
     "metadata": {},
     "source": [
      "##Barycenter\n",
      "This example shows how to calculate the barycenter (equally weighted) of a list of stars with both Skyfield and Asterisms. This could be useful if you wanted to point a telescope, or a celestrial mapping program, to the center of a constellation. I like to think of it as a visual barycenter."
     ]
    },
    {
     "cell_type": "code",
     "collapsed": false,
     "input": [
      "import skyfield\n",
      "from skyfield.api import Star, earth, now\n",
      "from skyfield.units import Angle, Distance\n",
      "from numpy import array\n",
      "\n",
      "# Gather star positions and put coords in an array\n",
      "algol = Star(ra_hours=( 3,  8, 10.1315),  dec_degrees=(40, 57, 20.332))  #approximately Algol\n",
      "mizar = Star(ra_hours=(13, 23, 55.5),     dec_degrees=(54, 55, 31))      #approximately Mizar\n",
      "vega  = Star(ra_hours=(18, 36, 56.33635), dec_degrees=(38, 47, 01.2802)) #approximately Vega\n",
      "stars = [algol, mizar, vega]\n",
      "positions = []\n",
      "for star in stars:\n",
      "    star_pos = earth(now()).observe(star)\n",
      "    positions.append(star_pos.radec())\n",
      "position_array = array(positions)\n",
      "print('Array of Positions')\n",
      "print(position_array)"
     ],
     "language": "python",
     "metadata": {},
     "outputs": [
      {
       "output_type": "stream",
       "stream": "stdout",
       "text": [
        "Array of Positions\n",
        "[[<Angle 03h 08m 10.13s> <Angle +40deg 57' 20.3\"> <Distance 2.06265e+14 AU>]\n",
        " [<Angle 13h 23m 55.50s> <Angle +54deg 55' 31.0\"> <Distance 2.06265e+14 AU>]\n",
        " [<Angle 18h 36m 56.34s> <Angle +38deg 47' 01.3\"> <Distance 2.06265e+14 AU>]]\n"
       ]
      }
     ],
     "prompt_number": 3
    },
    {
     "cell_type": "markdown",
     "metadata": {},
     "source": [
      "How to get the visual Barycenter just using Skyfield"
     ]
    },
    {
     "cell_type": "code",
     "collapsed": false,
     "input": [
      "# Average the coordinates to get an unweighted center\n",
      "mean_ra = skyfield.units.Angle(hours=0.0).radians\n",
      "mean_dec = skyfield.units.Angle(degrees=0.0).radians\n",
      "mean_dist = skyfield.units.Distance(AU=0.0).AU\n",
      "for coord in position_array:\n",
      "    mean_ra = mean_ra + coord[0].radians\n",
      "    mean_dec = mean_dec + coord[1].radians\n",
      "    mean_dist = mean_dist + coord[2].AU\n",
      "mean_ra = mean_ra / len(position_array)\n",
      "mean_dec = mean_dec / len(position_array)\n",
      "mean_dist = mean_dist / len(position_array)\n",
      "\n",
      "center = (Angle(radians=mean_ra, preference='hours'), Angle(radians=mean_dec, signed=True), Distance(AU=mean_dist))\n",
      "print('Center of Array of Positions:')\n",
      "print(center)"
     ],
     "language": "python",
     "metadata": {},
     "outputs": [
      {
       "output_type": "stream",
       "stream": "stdout",
       "text": [
        "Center of Array of Positions:\n",
        "(<Angle 11h 43m 00.66s>, <Angle +44deg 53' 17.5\">, <Distance 2.06265e+14 AU>)\n"
       ]
      }
     ],
     "prompt_number": 4
    },
    {
     "cell_type": "markdown",
     "metadata": {},
     "source": [
      "And the equivalent using Asterisms. For all of these initial examples, the Skyfield implementation will basically show the inner workings of the Asterism function."
     ]
    },
    {
     "cell_type": "code",
     "collapsed": false,
     "input": [
      "a.barycenter(position_array)"
     ],
     "language": "python",
     "metadata": {},
     "outputs": [
      {
       "metadata": {},
       "output_type": "pyout",
       "prompt_number": 5,
       "text": [
        "(<Angle 11h 43m 00.66s>, <Angle +44deg 53' 17.5\">, <Distance 2.06265e+14 AU>)"
       ]
      }
     ],
     "prompt_number": 5
    },
    {
     "cell_type": "markdown",
     "metadata": {},
     "source": [
      "##Hipparcos\n",
      "Skyfield has some built-in functions for working with the Hipparcos catalogue. See [hipparcos.py](https://github.com/brandon-rhodes/python-skyfield/blob/master/skyfield/data/hipparcos.py). This doesn't need to be in the examples, but I'm leaving it here until I figure out how to use Skyfields functions in my project."
     ]
    },
    {
     "cell_type": "code",
     "collapsed": false,
     "input": [
      "from skyfield.data import hipparcos\n",
      "line = 'H|       11767| |02 31 47.08|+89 15 50.9| 1.97|1|H|037.94614689|+89.26413805| |   7.56|   44.22|  -11.74|  0.39|  0.45|  0.48|  0.47|  0.55|-0.16| 0.05| 0.27|-0.01| 0.08| 0.05| 0.04|-0.12|-0.09|-0.36|  1| 1.22| 11767| 2.756|0.003| 2.067|0.003| | 0.636|0.003|T|0.70|0.00|L| | 2.1077|0.0021|0.014|102| | 2.09| 2.13|   3.97|P|1|A|02319+8915|I| 1| 1| | | |  |   |       |     |     |    |S| |P|  8890|B+88    8 |          |          |0.68|F7:Ib-IIv SB|G\\n'\n",
      "star = hipparcos.parse(line)\n",
      "print(star.ra.hours, star.dec.degrees)"
     ],
     "language": "python",
     "metadata": {},
     "outputs": [
      {
       "output_type": "stream",
       "stream": "stdout",
       "text": [
        "(2.5303010234979411, 89.264109507429168)\n"
       ]
      }
     ],
     "prompt_number": 1
    },
    {
     "cell_type": "code",
     "collapsed": false,
     "input": [
      "import gzip\n",
      "from skyfield.data import hipparcos\n",
      "from skyfield.data import cache as default_cache\n",
      "url = 'ftp://cdsarc.u-strasbg.fr/cats/I/239/hip_main.dat.gz'\n",
      "\n",
      "def load2(is_match, cache=default_cache):\n",
      "    with cache.open_url(url, days_old=9999) as f:\n",
      "        data = gzip.GzipFile(fileobj=f)\n",
      "        #data = gzip.open('hip_main.dat.gz')\n",
      "        for line in data.readlines():\n",
      "            id = line[8:14]\n",
      "            if is_match(id):\n",
      "               yield hipparcos.parse(line)\n",
      "                \n",
      "which = '11767'\n",
      "is_match = which.rjust(6).encode('ascii').__eq__\n",
      "for star in load2(is_match):\n",
      "    s = star\n",
      "    print(s)\n",
      "    \n",
      "print((s.ra, s.dec))"
     ],
     "language": "python",
     "metadata": {},
     "outputs": [
      {
       "output_type": "stream",
       "stream": "stdout",
       "text": [
        "Star(ra_hours=2.5303010234979411, dec_degrees=89.264109507429168, ra_mas_per_year=44.22, dec_mas_per_year=-11.74, parallax_mas=7.56, names=[('HIP', 11767)])\n",
        "(<Angle 02h 31m 49.08s>, <Angle 89deg 15' 50.8\">)"
       ]
      },
      {
       "output_type": "stream",
       "stream": "stdout",
       "text": [
        "\n"
       ]
      }
     ],
     "prompt_number": 1
    },
    {
     "cell_type": "code",
     "collapsed": false,
     "input": [
      "from skyfield.data import hipparcos\n",
      "hipparcos.get('11767')"
     ],
     "language": "python",
     "metadata": {},
     "outputs": [
      {
       "output_type": "stream",
       "stream": "stdout",
       "text": [
        "'11767'\n"
       ]
      },
      {
       "metadata": {},
       "output_type": "pyout",
       "prompt_number": 1,
       "text": [
        "Star(ra_hours=2.5303010234979411, dec_degrees=89.264109507429168, ra_mas_per_year=44.22, dec_mas_per_year=-11.74, parallax_mas=7.56, names=[('HIP', 11767)])"
       ]
      }
     ],
     "prompt_number": 1
    },
    {
     "cell_type": "markdown",
     "metadata": {},
     "source": [
      "##Initialize a Constellation\n",
      "You can initialize a constellation with the following code. The bare minimum needed is really just a name and a list of star segments."
     ]
    },
    {
     "cell_type": "code",
     "collapsed": false,
     "input": [
      "import asterisms as a\n",
      "segs = '67301 65378 65378 62956 62956 59774 59774 54061 54061 53910 53910 58001 58001 59774'\n",
      "uma = a.Constellation(name='Ursa Major',name_alt='Big Dipper',abbrev='UMA',segs=segs)"
     ],
     "language": "python",
     "metadata": {},
     "outputs": [
      {
       "output_type": "stream",
       "stream": "stdout",
       "text": [
        "'65378'\n",
        "'53910'"
       ]
      },
      {
       "output_type": "stream",
       "stream": "stdout",
       "text": [
        "\n",
        "'67301'"
       ]
      },
      {
       "output_type": "stream",
       "stream": "stdout",
       "text": [
        "\n",
        "'58001'"
       ]
      },
      {
       "output_type": "stream",
       "stream": "stdout",
       "text": [
        "\n",
        "'59774'"
       ]
      },
      {
       "output_type": "stream",
       "stream": "stdout",
       "text": [
        "\n",
        "'62956'"
       ]
      },
      {
       "output_type": "stream",
       "stream": "stdout",
       "text": [
        "\n",
        "'54061'"
       ]
      },
      {
       "output_type": "stream",
       "stream": "stdout",
       "text": [
        "\n"
       ]
      },
      {
       "ename": "TypeError",
       "evalue": "'Star' object does not support indexing",
       "output_type": "pyerr",
       "traceback": [
        "\u001b[1;31m---------------------------------------------------------------------------\u001b[0m\n\u001b[1;31mTypeError\u001b[0m                                 Traceback (most recent call last)",
        "\u001b[1;32m<ipython-input-1-b3b9e2df2c7e>\u001b[0m in \u001b[0;36m<module>\u001b[1;34m()\u001b[0m\n\u001b[0;32m      1\u001b[0m \u001b[1;32mimport\u001b[0m \u001b[0masterisms\u001b[0m \u001b[1;32mas\u001b[0m \u001b[0ma\u001b[0m\u001b[1;33m\u001b[0m\u001b[0m\n\u001b[0;32m      2\u001b[0m \u001b[0msegs\u001b[0m \u001b[1;33m=\u001b[0m \u001b[1;34m'67301 65378 65378 62956 62956 59774 59774 54061 54061 53910 53910 58001 58001 59774'\u001b[0m\u001b[1;33m\u001b[0m\u001b[0m\n\u001b[1;32m----> 3\u001b[1;33m \u001b[0muma\u001b[0m \u001b[1;33m=\u001b[0m \u001b[0ma\u001b[0m\u001b[1;33m.\u001b[0m\u001b[0mConstellation\u001b[0m\u001b[1;33m(\u001b[0m\u001b[0mname\u001b[0m\u001b[1;33m=\u001b[0m\u001b[1;34m'Ursa Major'\u001b[0m\u001b[1;33m,\u001b[0m\u001b[0mname_alt\u001b[0m\u001b[1;33m=\u001b[0m\u001b[1;34m'Big Dipper'\u001b[0m\u001b[1;33m,\u001b[0m\u001b[0mabbrev\u001b[0m\u001b[1;33m=\u001b[0m\u001b[1;34m'UMA'\u001b[0m\u001b[1;33m,\u001b[0m\u001b[0msegs\u001b[0m\u001b[1;33m=\u001b[0m\u001b[0msegs\u001b[0m\u001b[1;33m)\u001b[0m\u001b[1;33m\u001b[0m\u001b[0m\n\u001b[0m",
        "\u001b[1;32m/home/tom/projects/asterisms/asterisms/__init__.py\u001b[0m in \u001b[0;36m__init__\u001b[1;34m(self, *args, **kw)\u001b[0m\n\u001b[0;32m     37\u001b[0m         \u001b[1;32mfor\u001b[0m \u001b[0mstar\u001b[0m \u001b[1;32min\u001b[0m \u001b[0mlist\u001b[0m\u001b[1;33m(\u001b[0m\u001b[0mset\u001b[0m\u001b[1;33m(\u001b[0m\u001b[0mself\u001b[0m\u001b[1;33m.\u001b[0m\u001b[0msegs\u001b[0m\u001b[1;33m)\u001b[0m\u001b[1;33m)\u001b[0m\u001b[1;33m:\u001b[0m\u001b[1;33m\u001b[0m\u001b[0m\n\u001b[0;32m     38\u001b[0m             \u001b[0mself\u001b[0m\u001b[1;33m.\u001b[0m\u001b[0mstars\u001b[0m\u001b[1;33m.\u001b[0m\u001b[0mappend\u001b[0m\u001b[1;33m(\u001b[0m\u001b[0mhipparcos\u001b[0m\u001b[1;33m.\u001b[0m\u001b[0mget\u001b[0m\u001b[1;33m(\u001b[0m\u001b[0mstar\u001b[0m\u001b[1;33m)\u001b[0m\u001b[1;33m)\u001b[0m\u001b[1;33m\u001b[0m\u001b[0m\n\u001b[1;32m---> 39\u001b[1;33m         \u001b[0mself\u001b[0m\u001b[1;33m.\u001b[0m\u001b[0mbarycenter\u001b[0m \u001b[1;33m=\u001b[0m \u001b[0mbarycenter\u001b[0m\u001b[1;33m(\u001b[0m\u001b[0mself\u001b[0m\u001b[1;33m.\u001b[0m\u001b[0mstars\u001b[0m\u001b[1;33m)\u001b[0m\u001b[1;33m\u001b[0m\u001b[0m\n\u001b[0m\u001b[0;32m     40\u001b[0m         \u001b[1;31m#self.circumcenter=None\u001b[0m\u001b[1;33m\u001b[0m\u001b[1;33m\u001b[0m\u001b[0m\n\u001b[0;32m     41\u001b[0m         \u001b[1;31m# whether information is default or not, additional arguments overwrite\u001b[0m\u001b[1;33m\u001b[0m\u001b[1;33m\u001b[0m\u001b[0m\n",
        "\u001b[1;32m/home/tom/projects/asterisms/asterisms/geometry.pyc\u001b[0m in \u001b[0;36mbarycenter\u001b[1;34m(position, weight)\u001b[0m\n\u001b[0;32m     69\u001b[0m     \u001b[0mmean_dist\u001b[0m \u001b[1;33m=\u001b[0m \u001b[0mDistance\u001b[0m\u001b[1;33m(\u001b[0m\u001b[0mAU\u001b[0m\u001b[1;33m=\u001b[0m\u001b[1;36m0.0\u001b[0m\u001b[1;33m)\u001b[0m\u001b[1;33m.\u001b[0m\u001b[0mAU\u001b[0m\u001b[1;33m\u001b[0m\u001b[0m\n\u001b[0;32m     70\u001b[0m     \u001b[1;32mfor\u001b[0m \u001b[0mcoord\u001b[0m \u001b[1;32min\u001b[0m \u001b[0mposition_array\u001b[0m\u001b[1;33m:\u001b[0m\u001b[1;33m\u001b[0m\u001b[0m\n\u001b[1;32m---> 71\u001b[1;33m         \u001b[0mmean_ra\u001b[0m \u001b[1;33m=\u001b[0m \u001b[0mmean_ra\u001b[0m \u001b[1;33m+\u001b[0m \u001b[0mcoord\u001b[0m\u001b[1;33m[\u001b[0m\u001b[1;36m0\u001b[0m\u001b[1;33m]\u001b[0m\u001b[1;33m.\u001b[0m\u001b[0mradians\u001b[0m\u001b[1;33m\u001b[0m\u001b[0m\n\u001b[0m\u001b[0;32m     72\u001b[0m         \u001b[0mmean_dec\u001b[0m \u001b[1;33m=\u001b[0m \u001b[0mmean_dec\u001b[0m \u001b[1;33m+\u001b[0m \u001b[0mcoord\u001b[0m\u001b[1;33m[\u001b[0m\u001b[1;36m1\u001b[0m\u001b[1;33m]\u001b[0m\u001b[1;33m.\u001b[0m\u001b[0mradians\u001b[0m\u001b[1;33m\u001b[0m\u001b[0m\n\u001b[0;32m     73\u001b[0m         \u001b[0mmean_dist\u001b[0m \u001b[1;33m=\u001b[0m \u001b[0mmean_dist\u001b[0m \u001b[1;33m+\u001b[0m \u001b[0mcoord\u001b[0m\u001b[1;33m[\u001b[0m\u001b[1;36m2\u001b[0m\u001b[1;33m]\u001b[0m\u001b[1;33m.\u001b[0m\u001b[0mAU\u001b[0m\u001b[1;33m\u001b[0m\u001b[0m\n",
        "\u001b[1;31mTypeError\u001b[0m: 'Star' object does not support indexing"
       ]
      }
     ],
     "prompt_number": 1
    },
    {
     "cell_type": "markdown",
     "metadata": {},
     "source": [
      "###Visual barycenter of a constellation\n",
      "When a list of star segments is given to initialize a constellation, it looks up each Hipparcos number. Each constellation has a miniature dictionary of the raw Hipparcos lines, that can be retrieved with `db`. Additionally, a unique list of star positions can be retrieved with `coords`. Internally, `db` was parsed for the list of positions. This in turn, is fed to the `barycenter` function that calculates the visual barycenter of the constellation. By visual barycenter, it just implies a mean position that is unweighted."
     ]
    },
    {
     "cell_type": "code",
     "collapsed": false,
     "input": [],
     "language": "python",
     "metadata": {},
     "outputs": []
    },
    {
     "cell_type": "code",
     "collapsed": false,
     "input": [
      "print(uma.segs)\n",
      "print(uma.segs_n)\n",
      "print(uma.db)\n",
      "print(uma.coords)\n",
      "print(uma.barycenter)"
     ],
     "language": "python",
     "metadata": {},
     "outputs": [
      {
       "ename": "NameError",
       "evalue": "name 'uma' is not defined",
       "output_type": "pyerr",
       "traceback": [
        "\u001b[1;31m---------------------------------------------------------------------------\u001b[0m\n\u001b[1;31mNameError\u001b[0m                                 Traceback (most recent call last)",
        "\u001b[1;32m<ipython-input-8-14af0027e580>\u001b[0m in \u001b[0;36m<module>\u001b[1;34m()\u001b[0m\n\u001b[1;32m----> 1\u001b[1;33m \u001b[1;32mprint\u001b[0m\u001b[1;33m(\u001b[0m\u001b[0muma\u001b[0m\u001b[1;33m.\u001b[0m\u001b[0mdict\u001b[0m\u001b[1;33m)\u001b[0m\u001b[1;33m\u001b[0m\u001b[0m\n\u001b[0m\u001b[0;32m      2\u001b[0m \u001b[1;32mprint\u001b[0m\u001b[1;33m(\u001b[0m\u001b[0muma\u001b[0m\u001b[1;33m.\u001b[0m\u001b[0mcoords\u001b[0m\u001b[1;33m)\u001b[0m\u001b[1;33m\u001b[0m\u001b[0m\n\u001b[0;32m      3\u001b[0m \u001b[1;32mprint\u001b[0m\u001b[1;33m(\u001b[0m\u001b[0muma\u001b[0m\u001b[1;33m.\u001b[0m\u001b[0mbarycenter\u001b[0m\u001b[1;33m)\u001b[0m\u001b[1;33m\u001b[0m\u001b[0m\n",
        "\u001b[1;31mNameError\u001b[0m: name 'uma' is not defined"
       ]
      }
     ],
     "prompt_number": 8
    },
    {
     "cell_type": "markdown",
     "metadata": {},
     "source": [
      "##Circumcenter\n",
      "This example shows how to calculate the circumcenter of a list of stars with both Skyfield and Asterisms."
     ]
    },
    {
     "cell_type": "code",
     "collapsed": false,
     "input": [],
     "language": "python",
     "metadata": {},
     "outputs": []
    },
    {
     "cell_type": "markdown",
     "metadata": {},
     "source": [
      "and the equivalent using Asterisms"
     ]
    },
    {
     "cell_type": "code",
     "collapsed": false,
     "input": [],
     "language": "python",
     "metadata": {},
     "outputs": []
    },
    {
     "cell_type": "markdown",
     "metadata": {},
     "source": [
      "##Hipparcos\n",
      "At the time of writing, all of the constellations are (to oversimplify the format) just lists of star segments. Each star is listed by the Hipparcos number. The only reason I chose this nomenclature is because others were already using HIP numbers in their constellationship.fab files. Here is how to set up a constellation just using Skyfield, then also using Asterisms."
     ]
    },
    {
     "cell_type": "code",
     "collapsed": false,
     "input": [
      "#from skyfield.data import hipparcos\n",
      "#Alcor is HIP 65477\n",
      "#Mizar is HIP 65378\n",
      "\n",
      "#hipparcos.get(['65477','65378'])\n"
     ],
     "language": "python",
     "metadata": {},
     "outputs": []
    },
    {
     "cell_type": "code",
     "collapsed": false,
     "input": [
      "line = 'H|       11767| |02 31 47.08|+89 15 50.9| 1.97|1|H|037.94614689|+89.26413805| |   7.56|   44.22|  -11.74|  0.39|  0.45|  0.48|  0.47|  0.55|-0.16| 0.05| 0.27|-0.01| 0.08| 0.05| 0.04|-0.12|-0.09|-0.36|  1| 1.22| 11767| 2.756|0.003| 2.067|0.003| | 0.636|0.003|T|0.70|0.00|L| | 2.1077|0.0021|0.014|102| | 2.09| 2.13|   3.97|P|1|A|02319+8915|I| 1| 1| | | |  |   |       |     |     |    |S| |P|  8890|B+88    8 |          |          |0.68|F7:Ib-IIv SB|G\\n'\n",
      "star = hipparcos.parse(line)\n",
      "print(star.ra.hours, star.dec.degrees)"
     ],
     "language": "python",
     "metadata": {},
     "outputs": []
    },
    {
     "cell_type": "markdown",
     "metadata": {},
     "source": [
      "##Constellation\n",
      "Show a constellation using PyEphem, Skyfield, and Asterisms. \n",
      "\n",
      "###PyEphem"
     ]
    },
    {
     "cell_type": "code",
     "collapsed": false,
     "input": [],
     "language": "python",
     "metadata": {},
     "outputs": []
    },
    {
     "cell_type": "markdown",
     "metadata": {},
     "source": [
      "###Skyfield"
     ]
    },
    {
     "cell_type": "code",
     "collapsed": false,
     "input": [],
     "language": "python",
     "metadata": {},
     "outputs": []
    },
    {
     "cell_type": "markdown",
     "metadata": {},
     "source": [
      "###Asterisms\n",
      "and the equivalent using Asterisms"
     ]
    },
    {
     "cell_type": "code",
     "collapsed": false,
     "input": [
      "ori = a.Constellation(name='test')\n",
      "print(ori)"
     ],
     "language": "python",
     "metadata": {},
     "outputs": []
    },
    {
     "cell_type": "markdown",
     "metadata": {},
     "source": [
      "##Precession\n",
      "The following example shows how to view a constellation a few thousand years in the past, and a few thousand years in the future. It leverages the [Vondrak](https://digitalvapor.github.io/vondrak/) and Asterisms projects to this end. If you want to see how to implement the equivalent to this from scratch, please see the `notebooks` section of the Asterisms project, or my blog at [DigitalVapor](http://antivapor.net) where I've posted on it.\n",
      "\n",
      "###Create Constellation\n",
      "This creates a constellation using Asterisms."
     ]
    },
    {
     "cell_type": "code",
     "collapsed": false,
     "input": [],
     "language": "python",
     "metadata": {},
     "outputs": []
    },
    {
     "cell_type": "markdown",
     "metadata": {},
     "source": [
      "###Precess the Stars\n",
      "The following precesses the stars of the constellation."
     ]
    },
    {
     "cell_type": "code",
     "collapsed": false,
     "input": [
      "import vondrak as v\n",
      "print('using Vondrak version %s' % v.__version__)"
     ],
     "language": "python",
     "metadata": {},
     "outputs": []
    },
    {
     "cell_type": "markdown",
     "metadata": {},
     "source": [
      "###Cartography\n",
      "The following plots the constellation using basemap."
     ]
    },
    {
     "cell_type": "code",
     "collapsed": false,
     "input": [],
     "language": "python",
     "metadata": {},
     "outputs": []
    },
    {
     "cell_type": "markdown",
     "metadata": {},
     "source": [
      "##Helper Functions\n",
      "Some of the helper functions that work in the background. These will probably be moved over to the test section."
     ]
    },
    {
     "cell_type": "code",
     "collapsed": false,
     "input": [
      "#==========\n",
      "# Midpoint\n",
      "#==========\n",
      "from skyfield.api import Star, earth, now\n",
      "import asterisms as a\n",
      "algol = Star(ra_hours=( 3,  8, 10.1315), dec_degrees=(40, 57, 20.332)) # approximately Algol\n",
      "mizar = Star(ra_hours=(13, 23, 55.5),    dec_degrees=(54, 55, 31)) # approximately Mizar\n",
      "algol_pos = earth(now()).observe(algol)\n",
      "mizar_pos = earth(now()).observe(mizar)\n",
      "# If given a tuple of (RA, Dec, Dist), return midpoint as (RA, Dec, Dist)\n",
      "p1 = algol_pos.radec()\n",
      "p2 = mizar_pos.radec()\n",
      "print(p1)\n",
      "print(p2)\n",
      "p3 = a.midpoint(p1, p2)\n",
      "print(p3)\n",
      "# If given a tuple of just (RA, Dec), return midpoint as (RA, Dec)\n",
      "p4 = (p1[0], p1[1])\n",
      "p5 = (p2[0], p2[1])\n",
      "print(p4)\n",
      "print(p5)\n",
      "p6 = a.midpoint(p4,p5)\n",
      "print(p6)"
     ],
     "language": "python",
     "metadata": {},
     "outputs": []
    },
    {
     "cell_type": "code",
     "collapsed": false,
     "input": [],
     "language": "python",
     "metadata": {},
     "outputs": []
    }
   ],
   "metadata": {}
  }
 ]
}