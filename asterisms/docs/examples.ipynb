{
 "metadata": {
  "name": "",
  "signature": "sha256:94277c4095642fde73390c8a2f18fbbfd23d067794894c431bbff04ff3031a18"
 },
 "nbformat": 3,
 "nbformat_minor": 0,
 "worksheets": [
  {
   "cells": [
    {
     "cell_type": "markdown",
     "metadata": {},
     "source": [
      "#Examples\n",
      "\n",
      "Asterisms is intended to aid in logging of historical asterisms. Whenever possible, I am going to follow conventions of parallel projects so that there is the utmost compatibility possible. I'd love to know if I should add compatibility to an already existing stellar routine."
     ]
    },
    {
     "cell_type": "code",
     "collapsed": false,
     "input": [
      "import asterisms as a\n",
      "print('using Asterisms version %s' % a.__version__)"
     ],
     "language": "python",
     "metadata": {},
     "outputs": [
      {
       "output_type": "stream",
       "stream": "stdout",
       "text": [
        "using Asterisms version 0.02\n"
       ]
      }
     ],
     "prompt_number": 1
    },
    {
     "cell_type": "markdown",
     "metadata": {},
     "source": [
      "##Format\n",
      "A note on format and compatibility. Constellation/asterism format is historically based on the [Stellarium](http://www.stellarium.org/wiki/index.php/Advanced_Use#Sky_Cultures) or [pystaratlas](https://code.google.com/p/pystaratlas/) `constellationship.fab` files. See the R.A. Rey asterism files for example. The other asterism format I chose, was because I didn't see a point in having two files, when you could have one text file.\n",
      "\n",
      "Whenever possible, I am deferring position, units, and vector format decisions to the Skyfield project, which I am going to leverage."
     ]
    },
    {
     "cell_type": "code",
     "collapsed": false,
     "input": [
      "import skyfield\n",
      "print('using Skyfield version %s' % skyfield.__version__)"
     ],
     "language": "python",
     "metadata": {},
     "outputs": [
      {
       "output_type": "stream",
       "stream": "stdout",
       "text": [
        "using Skyfield version 0.4\n"
       ]
      }
     ],
     "prompt_number": 2
    },
    {
     "cell_type": "markdown",
     "metadata": {},
     "source": [
      "##Visual Center\n",
      "This example shows how to calculate the visual center (unweighted) of a list of stars with Asterisms. This could be useful if you wanted to point a telescope, or a celestrial mapping program, to the center of a constellation. I like to think of it as a visual barycenter."
     ]
    },
    {
     "cell_type": "code",
     "collapsed": false,
     "input": [
      "import skyfield\n",
      "from skyfield.api import Star, earth, now\n",
      "from skyfield.units import Angle, Distance\n",
      "from numpy import array\n",
      "\n",
      "# Gather star positions and put coords in an array\n",
      "algol = Star(ra_hours=( 3,  8, 10.1315),  dec_degrees=(40, 57, 20.332))  #approximately Algol\n",
      "mizar = Star(ra_hours=(13, 23, 55.5),     dec_degrees=(54, 55, 31))      #approximately Mizar\n",
      "vega  = Star(ra_hours=(18, 36, 56.33635), dec_degrees=(38, 47, 01.2802)) #approximately Vega\n",
      "stars = [algol, mizar, vega]\n",
      "positions = []\n",
      "for star in stars:\n",
      "    star_pos = earth(now()).observe(star)\n",
      "    positions.append(star_pos.radec())\n",
      "print(positions)\n",
      "a.center(positions)"
     ],
     "language": "python",
     "metadata": {},
     "outputs": [
      {
       "output_type": "stream",
       "stream": "stdout",
       "text": [
        "[(<Angle 03h 08m 10.13s>, <Angle +40deg 57' 20.3\">, <Distance 2.06265e+14 AU>), (<Angle 13h 23m 55.50s>, <Angle +54deg 55' 31.0\">, <Distance 2.06265e+14 AU>), (<Angle 18h 36m 56.34s>, <Angle +38deg 47' 01.3\">, <Distance 2.06265e+14 AU>)]\n"
       ]
      },
      {
       "metadata": {},
       "output_type": "pyout",
       "prompt_number": 3,
       "text": [
        "(<Angle 11h 43m 00.66s>, <Angle +44deg 53' 17.5\">)"
       ]
      }
     ],
     "prompt_number": 3
    },
    {
     "cell_type": "markdown",
     "metadata": {},
     "source": [
      "##Hipparcos\n",
      "Skyfield has some built-in functions for working with the Hipparcos catalogue. See [hipparcos.py](https://github.com/brandon-rhodes/python-skyfield/blob/master/skyfield/data/hipparcos.py). My project currently relies on the Skyfield [pull request I made](https://github.com/brandon-rhodes/python-skyfield/pull/36). So, I am going to leave this here as a note to self."
     ]
    },
    {
     "cell_type": "code",
     "collapsed": false,
     "input": [
      "from skyfield.data import hipparcos\n",
      "line = 'H|       11767| |02 31 47.08|+89 15 50.9| 1.97|1|H|037.94614689|+89.26413805| |   7.56|   44.22|  -11.74|  0.39|  0.45|  0.48|  0.47|  0.55|-0.16| 0.05| 0.27|-0.01| 0.08| 0.05| 0.04|-0.12|-0.09|-0.36|  1| 1.22| 11767| 2.756|0.003| 2.067|0.003| | 0.636|0.003|T|0.70|0.00|L| | 2.1077|0.0021|0.014|102| | 2.09| 2.13|   3.97|P|1|A|02319+8915|I| 1| 1| | | |  |   |       |     |     |    |S| |P|  8890|B+88    8 |          |          |0.68|F7:Ib-IIv SB|G\\n'\n",
      "star = hipparcos.parse(line)\n",
      "print(star.ra.hours, star.dec.degrees)"
     ],
     "language": "python",
     "metadata": {},
     "outputs": [
      {
       "output_type": "stream",
       "stream": "stdout",
       "text": [
        "(2.5303010234979411, 89.264109507429168)\n"
       ]
      }
     ],
     "prompt_number": 4
    },
    {
     "cell_type": "code",
     "collapsed": false,
     "input": [
      "import gzip\n",
      "from skyfield.data import hipparcos\n",
      "from skyfield.data import cache as default_cache\n",
      "url = 'ftp://cdsarc.u-strasbg.fr/cats/I/239/hip_main.dat.gz'\n",
      "\n",
      "def load2(is_match, cache=default_cache):\n",
      "    with cache.open_url(url, days_old=9999) as f:\n",
      "        data = gzip.GzipFile(fileobj=f)\n",
      "        #data = gzip.open('hip_main.dat.gz')\n",
      "        for line in data.readlines():\n",
      "            id = line[8:14]\n",
      "            if is_match(id):\n",
      "               yield hipparcos.parse(line)\n",
      "                \n",
      "which = '11767'\n",
      "is_match = which.rjust(6).encode('ascii').__eq__\n",
      "for star in load2(is_match):\n",
      "    s = star\n",
      "    print(s)\n",
      "    \n",
      "print((s.ra, s.dec))"
     ],
     "language": "python",
     "metadata": {},
     "outputs": [
      {
       "output_type": "stream",
       "stream": "stdout",
       "text": [
        "Star(ra_hours=2.5303010234979411, dec_degrees=89.264109507429168, ra_mas_per_year=44.22, dec_mas_per_year=-11.74, parallax_mas=7.56, names=[('HIP', 11767)])\n",
        "(<Angle 02h 31m 49.08s>, <Angle 89deg 15' 50.8\">)"
       ]
      },
      {
       "output_type": "stream",
       "stream": "stdout",
       "text": [
        "\n"
       ]
      }
     ],
     "prompt_number": 5
    },
    {
     "cell_type": "code",
     "collapsed": false,
     "input": [
      "from skyfield.data import hipparcos\n",
      "hipparcos.get('11767')"
     ],
     "language": "python",
     "metadata": {},
     "outputs": [
      {
       "output_type": "stream",
       "stream": "stdout",
       "text": [
        "'11767'\n"
       ]
      },
      {
       "metadata": {},
       "output_type": "pyout",
       "prompt_number": 6,
       "text": [
        "Star(ra_hours=2.5303010234979411, dec_degrees=89.264109507429168, ra_mas_per_year=44.22, dec_mas_per_year=-11.74, parallax_mas=7.56, names=[('HIP', 11767)])"
       ]
      }
     ],
     "prompt_number": 6
    },
    {
     "cell_type": "markdown",
     "metadata": {},
     "source": [
      "##Initialize a Constellation\n",
      "You can initialize a constellation with the following code. The bare minimum needed is really just a name and a list of star segments. At the time of writing, all of the constellations are (to oversimplify the format) just lists of star segments. Each star is listed by the Hipparcos number. The only reason I chose this nomenclature is because others were already using HIP numbers in their constellationship.fab files."
     ]
    },
    {
     "cell_type": "code",
     "collapsed": false,
     "input": [
      "import asterisms as a\n",
      "segs = '67301 65378 65378 62956 62956 59774 59774 54061 54061 53910 53910 58001 58001 59774'\n",
      "uma = a.Constellation(name='Ursa Major',name_alt='Big Dipper',abbrev='UMA',segs=segs)"
     ],
     "language": "python",
     "metadata": {},
     "outputs": [
      {
       "output_type": "stream",
       "stream": "stdout",
       "text": [
        "'65378'\n",
        "'53910'"
       ]
      },
      {
       "output_type": "stream",
       "stream": "stdout",
       "text": [
        "\n",
        "'67301'"
       ]
      },
      {
       "output_type": "stream",
       "stream": "stdout",
       "text": [
        "\n",
        "'58001'"
       ]
      },
      {
       "output_type": "stream",
       "stream": "stdout",
       "text": [
        "\n",
        "'59774'"
       ]
      },
      {
       "output_type": "stream",
       "stream": "stdout",
       "text": [
        "\n",
        "'62956'"
       ]
      },
      {
       "output_type": "stream",
       "stream": "stdout",
       "text": [
        "\n",
        "'54061'"
       ]
      },
      {
       "output_type": "stream",
       "stream": "stdout",
       "text": [
        "\n"
       ]
      }
     ],
     "prompt_number": 7
    },
    {
     "cell_type": "markdown",
     "metadata": {},
     "source": [
      "###Constellation Properties\n",
      "Each constellation instance has some basic properties, such as ``name``, ``name_alt``, abbreviation ``abbrev``, number of segments ``segs_n``, and segments ``segs``. Segments is a list of an even number of star segments, named by Hipparcos number."
     ]
    },
    {
     "cell_type": "code",
     "collapsed": false,
     "input": [
      "print(uma.name)\n",
      "print(uma.name_alt)\n",
      "print(uma.abbrev)\n",
      "print(uma.segs)\n",
      "print(uma.segs_n)"
     ],
     "language": "python",
     "metadata": {},
     "outputs": [
      {
       "output_type": "stream",
       "stream": "stdout",
       "text": [
        "Ursa Major\n",
        "Big Dipper\n",
        "UMA\n",
        "['67301', '65378', '65378', '62956', '62956', '59774', '59774', '54061', '54061', '53910', '53910', '58001', '58001', '59774']\n",
        "7\n"
       ]
      }
     ],
     "prompt_number": 8
    },
    {
     "cell_type": "markdown",
     "metadata": {},
     "source": [
      "When given the list of Hipparcos numbered segments, the Constellation inititializes a list of stars by using Skyfield's [hipparcos.get](https://github.com/brandon-rhodes/python-skyfield/blob/master/skyfield/data/hipparcos.py) method. It also passes these stars along and calculates the visual (unweighted) center of the constellation. By this, it is meant that it is the mean position. This is a tuple of right ascension and declination in Skyfield's Angle type."
     ]
    },
    {
     "cell_type": "code",
     "collapsed": false,
     "input": [
      "print(uma.stars)\n",
      "print(uma.center)\n",
      "#TODO: circumcenter not finished yet.\n",
      "#print(uma.circumcenter)\n",
      "#print(uma.circumcenter_radius)"
     ],
     "language": "python",
     "metadata": {},
     "outputs": [
      {
       "output_type": "stream",
       "stream": "stdout",
       "text": [
        "[Star(ra_hours=13.398761920264775, dec_degrees=54.925361752393151, ra_mas_per_year=121.23, dec_mas_per_year=-22.01, parallax_mas=41.73, names=[('HIP', 65378)]), Star(ra_hours=11.030687999605183, dec_degrees=56.382426786427374, ra_mas_per_year=81.66, dec_mas_per_year=33.74, parallax_mas=41.07, names=[('HIP', 53910)]), Star(ra_hours=13.792343787984251, dec_degrees=49.313265059674272, ra_mas_per_year=-121.23, dec_mas_per_year=-15.56, parallax_mas=32.39, names=[('HIP', 67301)]), Star(ra_hours=11.897179848125406, dec_degrees=53.694760084185191, ra_mas_per_year=107.76, dec_mas_per_year=11.16, parallax_mas=38.99, names=[('HIP', 58001)]), Star(ra_hours=12.257100034120432, dec_degrees=57.032616901786447, ra_mas_per_year=103.56, dec_mas_per_year=7.81, parallax_mas=40.05, names=[('HIP', 59774)]), Star(ra_hours=12.900485951888628, dec_degrees=55.959821158352696, ra_mas_per_year=111.74, dec_mas_per_year=-8.99, parallax_mas=40.3, names=[('HIP', 62956)]), Star(ra_hours=11.062130192490219, dec_degrees=61.75103320112995, ra_mas_per_year=-136.46, dec_mas_per_year=-35.25, parallax_mas=26.38, names=[('HIP', 54061)])]\n",
        "(<Angle 12h 20m 02.75s>, <Angle +55deg 34' 47.6\">)\n"
       ]
      }
     ],
     "prompt_number": 9
    },
    {
     "cell_type": "markdown",
     "metadata": {},
     "source": [
      "###Cartography\n",
      "I am going to be adding more advanced cartography functions, but to begin with here is some simple functionality. `mollweide`, `lambert`, `hammer`, and `aitoff` projections are supported.\n",
      "\n",
      "Below is a [Lambert azimuthal equal-area projection](https://en.wikipedia.org/wiki/Lambert_azimuthal_equal-area_projection) of the Big Dipper."
     ]
    },
    {
     "cell_type": "code",
     "collapsed": false,
     "input": [
      "import asterisms as a\n",
      "%pylab inline\n",
      "segs = '67301 65378 65378 62956 62956 59774 59774 54061 54061 53910 53910 58001 58001 59774'\n",
      "uma = a.Constellation(name='Ursa Major',name_alt='Big Dipper',abbrev='UMA',segs=segs)\n",
      "uma.plot(projection='lambert')"
     ],
     "language": "python",
     "metadata": {},
     "outputs": [
      {
       "output_type": "stream",
       "stream": "stdout",
       "text": [
        "Populating the interactive namespace from numpy and matplotlib\n",
        "'65378'\n",
        "'53910'"
       ]
      },
      {
       "output_type": "stream",
       "stream": "stdout",
       "text": [
        "\n",
        "'67301'"
       ]
      },
      {
       "output_type": "stream",
       "stream": "stdout",
       "text": [
        "\n",
        "'58001'"
       ]
      },
      {
       "output_type": "stream",
       "stream": "stdout",
       "text": [
        "\n",
        "'59774'"
       ]
      },
      {
       "output_type": "stream",
       "stream": "stdout",
       "text": [
        "\n",
        "'62956'"
       ]
      },
      {
       "output_type": "stream",
       "stream": "stdout",
       "text": [
        "\n",
        "'54061'"
       ]
      },
      {
       "output_type": "stream",
       "stream": "stdout",
       "text": [
        "\n"
       ]
      },
      {
       "metadata": {},
       "output_type": "display_data",
       "png": "[encoded data removed]",
       "text": [
        "<matplotlib.figure.Figure at 0x7fd09b5695d0>"
       ]
      }
     ],
     "prompt_number": 11
    },
    {
     "cell_type": "markdown",
     "metadata": {},
     "source": [
      "The default projection is a [Mollweide projection](https://en.wikipedia.org/wiki/Mollweide_projection). Here is an example with Orion."
     ]
    },
    {
     "cell_type": "code",
     "collapsed": false,
     "input": [
      "orion_segs = '26727 26311 26311 25930 28691 29426 29426 29038 29038 27913 27913 28691 29239 28614 28614 27989 27989 26727 26727 27366 24436 25281 25281 25930 25930 25336 25336 25813 25813 26207 25813 27989 25336 22449 22449 22549 22549 22797 22797 23123 22449 22509 22509 22845 22845 22833'\n",
      "ori = a.Constellation(name='Orion',name_alt='The Hunter',abbrev='ORI',segs=orion_segs)\n",
      "ori.plot()"
     ],
     "language": "python",
     "metadata": {},
     "outputs": [
      {
       "output_type": "stream",
       "stream": "stdout",
       "text": [
        "'22549'\n",
        "'25336'"
       ]
      },
      {
       "output_type": "stream",
       "stream": "stdout",
       "text": [
        "\n",
        "'22449'"
       ]
      },
      {
       "output_type": "stream",
       "stream": "stdout",
       "text": [
        "\n",
        "'22797'"
       ]
      },
      {
       "output_type": "stream",
       "stream": "stdout",
       "text": [
        "\n",
        "'27913'"
       ]
      },
      {
       "output_type": "stream",
       "stream": "stdout",
       "text": [
        "\n",
        "'22509'"
       ]
      },
      {
       "output_type": "stream",
       "stream": "stdout",
       "text": [
        "\n",
        "'23123'"
       ]
      },
      {
       "output_type": "stream",
       "stream": "stdout",
       "text": [
        "\n",
        "'25281'"
       ]
      },
      {
       "output_type": "stream",
       "stream": "stdout",
       "text": [
        "\n",
        "'29239'"
       ]
      },
      {
       "output_type": "stream",
       "stream": "stdout",
       "text": [
        "\n",
        "'26727'"
       ]
      },
      {
       "output_type": "stream",
       "stream": "stdout",
       "text": [
        "\n",
        "'22833'"
       ]
      },
      {
       "output_type": "stream",
       "stream": "stdout",
       "text": [
        "\n",
        "'27366'"
       ]
      },
      {
       "output_type": "stream",
       "stream": "stdout",
       "text": [
        "\n",
        "'26311'"
       ]
      },
      {
       "output_type": "stream",
       "stream": "stdout",
       "text": [
        "\n",
        "'29038'"
       ]
      },
      {
       "output_type": "stream",
       "stream": "stdout",
       "text": [
        "\n",
        "'29426'"
       ]
      },
      {
       "output_type": "stream",
       "stream": "stdout",
       "text": [
        "\n",
        "'24436'"
       ]
      },
      {
       "output_type": "stream",
       "stream": "stdout",
       "text": [
        "\n",
        "'28691'"
       ]
      },
      {
       "output_type": "stream",
       "stream": "stdout",
       "text": [
        "\n",
        "'27989'"
       ]
      },
      {
       "output_type": "stream",
       "stream": "stdout",
       "text": [
        "\n",
        "'26207'"
       ]
      },
      {
       "output_type": "stream",
       "stream": "stdout",
       "text": [
        "\n",
        "'22845'"
       ]
      },
      {
       "output_type": "stream",
       "stream": "stdout",
       "text": [
        "\n",
        "'25813'"
       ]
      },
      {
       "output_type": "stream",
       "stream": "stdout",
       "text": [
        "\n",
        "'25930'"
       ]
      },
      {
       "output_type": "stream",
       "stream": "stdout",
       "text": [
        "\n",
        "'28614'"
       ]
      },
      {
       "output_type": "stream",
       "stream": "stdout",
       "text": [
        "\n"
       ]
      },
      {
       "output_type": "stream",
       "stream": "stderr",
       "text": [
        "/usr/lib/pymodules/python2.7/matplotlib/projections/geo.py:485: RuntimeWarning: invalid value encountered in arcsin\n",
        "  theta = np.arcsin(y / np.sqrt(2))\n"
       ]
      },
      {
       "metadata": {},
       "output_type": "display_data",
       "png": "[encoded data removed]",
       "text": [
        "<matplotlib.figure.Figure at 0x7fd09b569850>"
       ]
      }
     ],
     "prompt_number": 12
    },
    {
     "cell_type": "markdown",
     "metadata": {},
     "source": [
      "##Precession\n",
      "The following example shows how to view a constellation a few thousand years in the past, and a few thousand years in the future. It leverages the [Vondrak](https://digitalvapor.github.io/vondrak/) and Asterisms projects to this end. If you want to see how to implement the equivalent to this from scratch, please see the `notebooks` section of the Asterisms project, or my blog at [DigitalVapor](http://antivapor.net) where I've posted on it."
     ]
    },
    {
     "cell_type": "code",
     "collapsed": false,
     "input": [
      "import vondrak as v\n",
      "print('using Vondrak version %s' % v.__version__)\n",
      "#TODO"
     ],
     "language": "python",
     "metadata": {},
     "outputs": []
    },
    {
     "cell_type": "markdown",
     "metadata": {},
     "source": [
      "##Helper Functions\n",
      "Some of the helper functions that work in the background. These will probably be moved over to the test section."
     ]
    },
    {
     "cell_type": "code",
     "collapsed": false,
     "input": [
      "#==========\n",
      "# Midpoint\n",
      "#==========\n",
      "from skyfield.api import Star, earth, now\n",
      "from asterisms.geometry import midpoint\n",
      "algol = Star(ra_hours=( 3,  8, 10.1315), dec_degrees=(40, 57, 20.332)) # approximately Algol\n",
      "mizar = Star(ra_hours=(13, 23, 55.5),    dec_degrees=(54, 55, 31)) # approximately Mizar\n",
      "algol_pos = earth(now()).observe(algol)\n",
      "mizar_pos = earth(now()).observe(mizar)\n",
      "# If given a tuple of (RA, Dec, Dist), return midpoint as (RA, Dec, Dist)\n",
      "p1 = algol_pos.radec()\n",
      "p2 = mizar_pos.radec()\n",
      "print(p1)\n",
      "print(p2)\n",
      "p3 = midpoint(p1, p2)\n",
      "print(p3)\n",
      "# If given a tuple of just (RA, Dec), return midpoint as (RA, Dec)\n",
      "p4 = (p1[0], p1[1])\n",
      "p5 = (p2[0], p2[1])\n",
      "print(p4)\n",
      "print(p5)\n",
      "p6 = midpoint(p4,p5)\n",
      "print(p6)"
     ],
     "language": "python",
     "metadata": {},
     "outputs": [
      {
       "output_type": "stream",
       "stream": "stdout",
       "text": [
        "(<Angle 03h 08m 10.13s>, <Angle +40deg 57' 20.3\">, <Distance 2.06265e+14 AU>)\n",
        "(<Angle 13h 23m 55.50s>, <Angle +54deg 55' 31.0\">, <Distance 2.06265e+14 AU>)\n",
        "(<Angle 08h 16m 02.82s>, <Angle +47deg 56' 25.7\">, <Distance 2.06265e+14 AU>)\n",
        "(<Angle 03h 08m 10.13s>, <Angle +40deg 57' 20.3\">)\n",
        "(<Angle 13h 23m 55.50s>, <Angle +54deg 55' 31.0\">)\n",
        "(<Angle 08h 16m 02.82s>, <Angle +47deg 56' 25.7\">)\n"
       ]
      }
     ],
     "prompt_number": 13
    },
    {
     "cell_type": "code",
     "collapsed": false,
     "input": [],
     "language": "python",
     "metadata": {},
     "outputs": [],
     "prompt_number": 13
    }
   ],
   "metadata": {}
  }
 ]
}