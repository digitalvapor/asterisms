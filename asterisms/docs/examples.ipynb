{
 "metadata": {
  "name": "",
  "signature": "sha256:414b365db9af4ce0c3f76ef642952a79fcd93f4e09224a9b5d54ae50373b458c"
 },
 "nbformat": 3,
 "nbformat_minor": 0,
 "worksheets": [
  {
   "cells": [
    {
     "cell_type": "markdown",
     "metadata": {},
     "source": [
      "#Examples\n",
      "\n",
      "Asterisms is intended to aid in logging of historical asterisms. Whenever possible, I am going to follow conventions of parallel projects so that there is the utmost compatibility possible. I think usage and facilitating sharing of information is a big part of the project. To that end, some of these examples show how to accomplish the equivalent *without* Asterisms. This could be helpful, if you don't want an extra dependency. It could also help you seamlessly drop in the Asterisms project."
     ]
    },
    {
     "cell_type": "code",
     "collapsed": false,
     "input": [
      "import asterisms as a\n",
      "print('using Asterisms version %s' % a.__version__)"
     ],
     "language": "python",
     "metadata": {},
     "outputs": [
      {
       "output_type": "stream",
       "stream": "stdout",
       "text": [
        "using Asterisms version 0.02\n"
       ]
      }
     ],
     "prompt_number": 1
    },
    {
     "cell_type": "markdown",
     "metadata": {},
     "source": [
      "##Format\n",
      "A note on format and compatibility. Constellation/asterism format is historically based on the Stellarium (who else uses it?) `constellationship.fab` files. See the R.A. Rey asterism files for example. The other asterism format I chose, was because I didn't see a point in having two files, when you could have one text file.\n",
      "\n",
      "Whenever possible, I am deferring position, units, and vector format decisions to the Skyfield project, which I am going to leverage."
     ]
    },
    {
     "cell_type": "code",
     "collapsed": false,
     "input": [
      "import skyfield\n",
      "print('using Skyfield version %s' % skyfield.__version__)"
     ],
     "language": "python",
     "metadata": {},
     "outputs": [
      {
       "output_type": "stream",
       "stream": "stdout",
       "text": [
        "using Skyfield version 0.4\n"
       ]
      }
     ],
     "prompt_number": 2
    },
    {
     "cell_type": "markdown",
     "metadata": {},
     "source": [
      "##Barycenter\n",
      "This example shows how to calculate the barycenter (equally weighted) of a list of stars with both Skyfield and Asterisms. This could be useful if you wanted to point a telescope, or a celestrial mapping program, to the center of a constellation. I like to think of it as a visual barycenter."
     ]
    },
    {
     "cell_type": "code",
     "collapsed": false,
     "input": [
      "import skyfield\n",
      "from skyfield.api import Star, earth, now\n",
      "from skyfield.units import Angle, Distance\n",
      "from numpy import array\n",
      "\n",
      "# Gather star positions and put coords in an array\n",
      "algol = Star(ra_hours=( 3,  8, 10.1315),  dec_degrees=(40, 57, 20.332))  #approximately Algol\n",
      "mizar = Star(ra_hours=(13, 23, 55.5),     dec_degrees=(54, 55, 31))      #approximately Mizar\n",
      "vega  = Star(ra_hours=(18, 36, 56.33635), dec_degrees=(38, 47, 01.2802)) #approximately Vega\n",
      "stars = [algol, mizar, vega]\n",
      "positions = []\n",
      "for star in stars:\n",
      "    star_pos = earth(now()).observe(star)\n",
      "    positions.append(star_pos.radec())\n",
      "position_array = array(positions)\n",
      "print('Array of Positions')\n",
      "print(position_array)"
     ],
     "language": "python",
     "metadata": {},
     "outputs": [
      {
       "output_type": "stream",
       "stream": "stdout",
       "text": [
        "Array of Positions\n",
        "[[<Angle 03h 08m 10.13s> <Angle +40deg 57' 20.3\"> <Distance 2.06265e+14 AU>]\n",
        " [<Angle 13h 23m 55.50s> <Angle +54deg 55' 31.0\"> <Distance 2.06265e+14 AU>]\n",
        " [<Angle 18h 36m 56.34s> <Angle +38deg 47' 01.3\"> <Distance 2.06265e+14 AU>]]\n"
       ]
      }
     ],
     "prompt_number": 10
    },
    {
     "cell_type": "markdown",
     "metadata": {},
     "source": [
      "How to get the visual Barycenter just using Skyfield"
     ]
    },
    {
     "cell_type": "code",
     "collapsed": false,
     "input": [
      "# Average the coordinates to get an unweighted center\n",
      "mean_ra = skyfield.units.Angle(hours=0.0).radians\n",
      "mean_dec = skyfield.units.Angle(degrees=0.0).radians\n",
      "mean_dist = skyfield.units.Distance(AU=0.0).AU\n",
      "for coord in position_array:\n",
      "    mean_ra = mean_ra + coord[0].radians\n",
      "    mean_dec = mean_dec + coord[1].radians\n",
      "    mean_dist = mean_dist + coord[2].AU\n",
      "mean_ra = mean_ra / len(position_array)\n",
      "mean_dec = mean_dec / len(position_array)\n",
      "mean_dist = mean_dist / len(position_array)\n",
      "\n",
      "center = (Angle(radians=mean_ra, preference='hours'), Angle(radians=mean_dec, signed=True), Distance(AU=mean_dist))\n",
      "print('Center of Array of Positions:')\n",
      "print(center)"
     ],
     "language": "python",
     "metadata": {},
     "outputs": [
      {
       "output_type": "stream",
       "stream": "stdout",
       "text": [
        "Center of Array of Positions:\n",
        "(<Angle 11h 43m 00.66s>, <Angle +44deg 53' 17.5\">, <Distance 2.06265e+14 AU>)\n"
       ]
      }
     ],
     "prompt_number": 16
    },
    {
     "cell_type": "markdown",
     "metadata": {},
     "source": [
      "And the equivalent using Asterisms."
     ]
    },
    {
     "cell_type": "code",
     "collapsed": false,
     "input": [
      "a.barycenter(position_array)"
     ],
     "language": "python",
     "metadata": {},
     "outputs": [
      {
       "metadata": {},
       "output_type": "pyout",
       "prompt_number": 11,
       "text": [
        "(<Angle 11h 43m 00.66s>, <Angle +44deg 53' 17.5\">, <Distance 2.06265e+14 AU>)"
       ]
      }
     ],
     "prompt_number": 11
    },
    {
     "cell_type": "markdown",
     "metadata": {},
     "source": [
      "###Visual barycenter of a constellation"
     ]
    },
    {
     "cell_type": "code",
     "collapsed": false,
     "input": [
      "uma = a.Constellation(name='Ursa Major',name_alt='Big Dipper',abbrev='UMA',segs=[])\n",
      "print(uma.barycenter)"
     ],
     "language": "python",
     "metadata": {},
     "outputs": []
    },
    {
     "cell_type": "markdown",
     "metadata": {},
     "source": [
      "##Circumcenter\n",
      "This example shows how to calculate the circumcenter of a list of stars with both Skyfield and Asterisms."
     ]
    },
    {
     "cell_type": "code",
     "collapsed": false,
     "input": [],
     "language": "python",
     "metadata": {},
     "outputs": [],
     "prompt_number": 4
    },
    {
     "cell_type": "markdown",
     "metadata": {},
     "source": [
      "and the equivalent using Asterisms"
     ]
    },
    {
     "cell_type": "code",
     "collapsed": false,
     "input": [],
     "language": "python",
     "metadata": {},
     "outputs": [],
     "prompt_number": 4
    },
    {
     "cell_type": "markdown",
     "metadata": {},
     "source": [
      "##Hipparcos\n",
      "At the time of writing, all of the constellations are (to oversimplify the format) just lists of star segments. Each star is listed by the Hipparcos number. The only reason I chose this nomenclature is because others were already using HIP numbers in their constellationship.fab files. Here is how to set up a constellation just using Skyfield, then also using Asterisms."
     ]
    },
    {
     "cell_type": "code",
     "collapsed": false,
     "input": [
      "#from skyfield.data import hipparcos\n",
      "#Alcor is HIP 65477\n",
      "#Mizar is HIP 65378\n",
      "\n",
      "#hipparcos.get(['65477','65378'])\n"
     ],
     "language": "python",
     "metadata": {},
     "outputs": [],
     "prompt_number": 5
    },
    {
     "cell_type": "code",
     "collapsed": false,
     "input": [
      "line = 'H|       11767| |02 31 47.08|+89 15 50.9| 1.97|1|H|037.94614689|+89.26413805| |   7.56|   44.22|  -11.74|  0.39|  0.45|  0.48|  0.47|  0.55|-0.16| 0.05| 0.27|-0.01| 0.08| 0.05| 0.04|-0.12|-0.09|-0.36|  1| 1.22| 11767| 2.756|0.003| 2.067|0.003| | 0.636|0.003|T|0.70|0.00|L| | 2.1077|0.0021|0.014|102| | 2.09| 2.13|   3.97|P|1|A|02319+8915|I| 1| 1| | | |  |   |       |     |     |    |S| |P|  8890|B+88    8 |          |          |0.68|F7:Ib-IIv SB|G\\n'\n",
      "star = hipparcos.parse(line)\n",
      "print(star.ra.hours, star.dec.degrees)"
     ],
     "language": "python",
     "metadata": {},
     "outputs": [
      {
       "ename": "NameError",
       "evalue": "name 'hipparcos' is not defined",
       "output_type": "pyerr",
       "traceback": [
        "\u001b[1;31m---------------------------------------------------------------------------\u001b[0m\n\u001b[1;31mNameError\u001b[0m                                 Traceback (most recent call last)",
        "\u001b[1;32m<ipython-input-6-5ef0a2152a8b>\u001b[0m in \u001b[0;36m<module>\u001b[1;34m()\u001b[0m\n\u001b[0;32m      1\u001b[0m \u001b[0mline\u001b[0m \u001b[1;33m=\u001b[0m \u001b[1;34m'H|       11767| |02 31 47.08|+89 15 50.9| 1.97|1|H|037.94614689|+89.26413805| |   7.56|   44.22|  -11.74|  0.39|  0.45|  0.48|  0.47|  0.55|-0.16| 0.05| 0.27|-0.01| 0.08| 0.05| 0.04|-0.12|-0.09|-0.36|  1| 1.22| 11767| 2.756|0.003| 2.067|0.003| | 0.636|0.003|T|0.70|0.00|L| | 2.1077|0.0021|0.014|102| | 2.09| 2.13|   3.97|P|1|A|02319+8915|I| 1| 1| | | |  |   |       |     |     |    |S| |P|  8890|B+88    8 |          |          |0.68|F7:Ib-IIv SB|G\\n'\u001b[0m\u001b[1;33m\u001b[0m\u001b[0m\n\u001b[1;32m----> 2\u001b[1;33m \u001b[0mstar\u001b[0m \u001b[1;33m=\u001b[0m \u001b[0mhipparcos\u001b[0m\u001b[1;33m.\u001b[0m\u001b[0mparse\u001b[0m\u001b[1;33m(\u001b[0m\u001b[0mline\u001b[0m\u001b[1;33m)\u001b[0m\u001b[1;33m\u001b[0m\u001b[0m\n\u001b[0m\u001b[0;32m      3\u001b[0m \u001b[1;32mprint\u001b[0m\u001b[1;33m(\u001b[0m\u001b[0mstar\u001b[0m\u001b[1;33m.\u001b[0m\u001b[0mra\u001b[0m\u001b[1;33m.\u001b[0m\u001b[0mhours\u001b[0m\u001b[1;33m,\u001b[0m \u001b[0mstar\u001b[0m\u001b[1;33m.\u001b[0m\u001b[0mdec\u001b[0m\u001b[1;33m.\u001b[0m\u001b[0mdegrees\u001b[0m\u001b[1;33m)\u001b[0m\u001b[1;33m\u001b[0m\u001b[0m\n",
        "\u001b[1;31mNameError\u001b[0m: name 'hipparcos' is not defined"
       ]
      }
     ],
     "prompt_number": 6
    },
    {
     "cell_type": "markdown",
     "metadata": {},
     "source": [
      "##Constellation\n",
      "Show a constellation using PyEphem, Skyfield, and Asterisms. \n",
      "\n",
      "###PyEphem"
     ]
    },
    {
     "cell_type": "code",
     "collapsed": false,
     "input": [],
     "language": "python",
     "metadata": {},
     "outputs": []
    },
    {
     "cell_type": "markdown",
     "metadata": {},
     "source": [
      "###Skyfield"
     ]
    },
    {
     "cell_type": "code",
     "collapsed": false,
     "input": [],
     "language": "python",
     "metadata": {},
     "outputs": []
    },
    {
     "cell_type": "markdown",
     "metadata": {},
     "source": [
      "###Asterisms\n",
      "and the equivalent using Asterisms"
     ]
    },
    {
     "cell_type": "code",
     "collapsed": false,
     "input": [
      "ori = a.Constellation(name='test')\n",
      "print(ori)"
     ],
     "language": "python",
     "metadata": {},
     "outputs": []
    },
    {
     "cell_type": "markdown",
     "metadata": {},
     "source": [
      "##Precession\n",
      "The following example shows how to view a constellation a few thousand years in the past, and a few thousand years in the future. It leverages the [Vondrak](https://digitalvapor.github.io/vondrak/) and Asterisms projects to this end. If you want to see how to implement the equivalent to this from scratch, please see the `notebooks` section of the Asterisms project, or my blog at [DigitalVapor](http://antivapor.net) where I've posted on it.\n",
      "\n",
      "###Create Constellation\n",
      "This creates a constellation using Asterisms."
     ]
    },
    {
     "cell_type": "code",
     "collapsed": false,
     "input": [],
     "language": "python",
     "metadata": {},
     "outputs": []
    },
    {
     "cell_type": "markdown",
     "metadata": {},
     "source": [
      "###Precess the Stars\n",
      "The following precesses the stars of the constellation."
     ]
    },
    {
     "cell_type": "code",
     "collapsed": false,
     "input": [
      "import vondrak as v\n",
      "print('using Vondrak version %s' % v.__version__)"
     ],
     "language": "python",
     "metadata": {},
     "outputs": []
    },
    {
     "cell_type": "markdown",
     "metadata": {},
     "source": [
      "###Cartography\n",
      "The following plots the constellation using basemap."
     ]
    },
    {
     "cell_type": "code",
     "collapsed": false,
     "input": [],
     "language": "python",
     "metadata": {},
     "outputs": []
    },
    {
     "cell_type": "markdown",
     "metadata": {},
     "source": [
      "##Helper Functions\n",
      "Some of the helper functions that work in the background. These will probably be moved over to the test section."
     ]
    },
    {
     "cell_type": "code",
     "collapsed": false,
     "input": [
      "#==========\n",
      "# Midpoint\n",
      "#==========\n",
      "from skyfield.api import Star, earth, now\n",
      "import asterisms as a\n",
      "algol = Star(ra_hours=( 3,  8, 10.1315), dec_degrees=(40, 57, 20.332)) # approximately Algol\n",
      "mizar = Star(ra_hours=(13, 23, 55.5),    dec_degrees=(54, 55, 31)) # approximately Mizar\n",
      "algol_pos = earth(now()).observe(algol)\n",
      "mizar_pos = earth(now()).observe(mizar)\n",
      "# If given a tuple of (RA, Dec, Dist), return midpoint as (RA, Dec, Dist)\n",
      "p1 = algol_pos.radec()\n",
      "p2 = mizar_pos.radec()\n",
      "print(p1)\n",
      "print(p2)\n",
      "p3 = a.midpoint(p1, p2)\n",
      "print(p3)\n",
      "# If given a tuple of just (RA, Dec), return midpoint as (RA, Dec)\n",
      "p4 = (p1[0], p1[1])\n",
      "p5 = (p2[0], p2[1])\n",
      "print(p4)\n",
      "print(p5)\n",
      "p6 = a.midpoint(p4,p5)\n",
      "print(p6)"
     ],
     "language": "python",
     "metadata": {},
     "outputs": [
      {
       "output_type": "stream",
       "stream": "stdout",
       "text": [
        "(<Angle 03h 08m 10.13s>, <Angle +40deg 57' 20.3\">, <Distance 2.06265e+14 AU>)\n",
        "(<Angle 13h 23m 55.50s>, <Angle +54deg 55' 31.0\">, <Distance 2.06265e+14 AU>)\n",
        "(<Angle 08h 16m 02.82s>, <Angle +47deg 56' 25.7\">, <Distance 2.06265e+14 AU>)\n",
        "(<Angle 03h 08m 10.13s>, <Angle +40deg 57' 20.3\">)\n",
        "(<Angle 13h 23m 55.50s>, <Angle +54deg 55' 31.0\">)\n",
        "(<Angle 08h 16m 02.82s>, <Angle +47deg 56' 25.7\">)\n"
       ]
      }
     ],
     "prompt_number": 2
    },
    {
     "cell_type": "code",
     "collapsed": false,
     "input": [],
     "language": "python",
     "metadata": {},
     "outputs": []
    }
   ],
   "metadata": {}
  }
 ]
}