{
 "metadata": {
  "name": ""
 },
 "nbformat": 3,
 "nbformat_minor": 0,
 "worksheets": [
  {
   "cells": [
    {
     "cell_type": "markdown",
     "metadata": {},
     "source": [
      "In the [pystaratlas](https://code.google.com/p/pystaratlas/) project, there is a [hip2.dat](https://pystaratlas.googlecode.com/files/hip2.dat) file of the [Hipparcos](https://en.wikipedia.org/wiki/Hipparcos) Catalog. I don't yet know how they filtered the data to get this, or the original source. However, they didn't include it in the main repo, because it is big. To me 32MB isn't that big by itself, but we try to keep large files out of repos. Github warns at 50MB. Also, this is *way* smaller than the original [The Hipparcos and Tycho Catalogues](http://cdsarc.u-strasbg.fr/viz-bin/Cat?I/239) files. Also, see the [text download](http://cdsarc.u-strasbg.fr/viz-bin/nph-Cat/txt?I%2F239), which I assume `hip2.dat` is filtered from, so I'm going to use `hip2.dat` for the meantime to keep this going. \n",
      "\n",
      "Dealing with the Hipparcos Catalog, or any other large set of data, maybe I want to create a mini-database just for the stars that I am going to use. This will also make any search algorithm we use way faster. Also, I want to check the validity of the `hip2.dat` file. Scroll down to the bottom to see why this is a good idea."
     ]
    },
    {
     "cell_type": "code",
     "collapsed": false,
     "input": [
      "# the hipparcos is obviously in order by the HIP #.\n",
      "hipfile = '../data/hip2.dat'\n",
      "# let's get all the Rey asterism stars and then put them in order\n",
      "# too to aid the search algorith by a bit\n",
      "astfile = '../data/ha_rey/ha_rey_english/constellationship.fab'\n",
      "# we'll use a set, because it is only of unique entries\n",
      "rey_stars = set() \n",
      "with open(astfile) as af:\n",
      "    for line in af:\n",
      "        # ignore comments\n",
      "        if(line.startswith('#')):\n",
      "           continue\n",
      "        asterism_data = line.split()\n",
      "        # skip blank lines or for some reason stray whatever, \n",
      "        # should actually warn here or deal with the issue\n",
      "        if(len(asterism_data)<3):\n",
      "            continue\n",
      "        # skip name, get number segments and multiply by 2\n",
      "        # then go through each\n",
      "        for i in range(2,int(asterism_data[1])*2):\n",
      "            rey_stars.add(int(asterism_data[i]))\n",
      "# let's reorder the Rey asterisms in order of HIP # too.\n",
      "rey_stars = sorted(list(rey_stars))\n",
      "num_rey_stars = len(rey_stars)\n",
      "print('The H. A. Rey asterisms use {} stars.'.format(num_rey_stars))"
     ],
     "language": "python",
     "metadata": {},
     "outputs": [
      {
       "output_type": "stream",
       "stream": "stdout",
       "text": [
        "The H. A. Rey asterisms use 792 stars.\n"
       ]
      }
     ],
     "prompt_number": 8
    },
    {
     "cell_type": "code",
     "collapsed": false,
     "input": [
      "num_lines = 0\n",
      "output = '../data/mini_rey_hip.dat'\n",
      "of = open(output,'w')\n",
      "stars_found = set()\n",
      "with open(hipfile) as hf:\n",
      "    for line in hf:\n",
      "        num_lines += 1\n",
      "        if(num_lines==1):\n",
      "            continue\n",
      "        star_data = line.split()\n",
      "        # i know, not efficient AT ALL, but since this is a 'one-off'\n",
      "        # i don't mind so much\n",
      "        if(int(star_data[0]) in rey_stars):\n",
      "            # save number just to check we got everything at the end\n",
      "            stars_found.add(int(star_data[0]))\n",
      "            of.write(line)\n",
      "num_hip_stars = num_lines - 1\n",
      "print('There are {} stars in the hip2.dat file.'.format(num_hip_stars))\n",
      "print('We only need {:.3}% of that.'.format(100.*num_rey_stars/num_hip_stars))"
     ],
     "language": "python",
     "metadata": {},
     "outputs": [
      {
       "output_type": "stream",
       "stream": "stdout",
       "text": [
        "There are 117955 stars in the hip2.dat file.\n",
        "We only need 0.671% of that.\n"
       ]
      }
     ],
     "prompt_number": 9
    },
    {
     "cell_type": "code",
     "collapsed": false,
     "input": [
      "# lets confirm we found all the stars\n",
      "hip_found = sorted(list(stars_found))\n",
      "if(cmp(hip_found,rey_stars)==0):\n",
      "    print('Hooray, we win! Found all stars.')\n",
      "else:\n",
      "    print('Double-check if missing stars.')\n",
      "    for i in range(max(len(hip_found),num_rey_stars)):\n",
      "        if(hip_found[i]!=rey_stars[i]):\n",
      "            if(i>0): print('Element # {}, HIP {}:REY {} is okay.'.format(i-1,hip_found[i-1],rey_stars[i-1]))\n",
      "            print('Equality diverges at element # {}, HIP {}:REY {}.'.format(i,hip_found[i],rey_stars[i]))\n",
      "            if(i<min(len(hip_found),num_rey_stars)-1): \n",
      "                print('For Elements # {}, HIP {}:REY {},'.format(i+1,hip_found[i+1],rey_stars[i+1]))\n",
      "                if(rey_stars[i+1]==hip_found[i]):\n",
      "                    missing = rey_stars[i]\n",
      "                    db_name = 'HIP'\n",
      "                else:\n",
      "                    missing = hip_found[i]\n",
      "                    db_name = 'REY'\n",
      "                print('we see that {} is missing {}.'.format(db_name,missing))\n",
      "            break\n",
      "with open(output) as mf:\n",
      "    for i,l in enumerate(mf):\n",
      "        pass\n",
      "    num_found = i+1\n",
      "print('Our mini HIP catalog has {} stars now.'.format(num_found))"
     ],
     "language": "python",
     "metadata": {},
     "outputs": [
      {
       "output_type": "stream",
       "stream": "stdout",
       "text": [
        "Double-check if missing stars.\n",
        "Element # 349, HIP 54879:REY 54879 is okay.\n",
        "Equality diverges at element # 350, HIP 55219:REY 55203.\n",
        "For Elements # 351, HIP 55282:REY 55219,\n",
        "we see that HIP is missing 55203.\n",
        "Our mini HIP catalog has 791 stars now.\n"
       ]
      }
     ],
     "prompt_number": 10
    },
    {
     "cell_type": "code",
     "collapsed": false,
     "input": [
      "import os\n",
      "orig_file_size = os.stat(hipfile).st_size\n",
      "new_file_size = os.stat(output).st_size\n",
      "print('Original {} file: {} MB\\nNew {} file: {} MB'.format(hipfile,orig_file_size/1e6,output,new_file_size/1e6))\n",
      "if(new_file_size/1e6<1):\n",
      "    print('I am more than okay with uploading the new mini-db now.')\n",
      "print('Our new db is {:.3}% of the original.'.format(100.*new_file_size/orig_file_size))"
     ],
     "language": "python",
     "metadata": {},
     "outputs": [
      {
       "output_type": "stream",
       "stream": "stdout",
       "text": [
        "Original ../data/hip2.dat file: 32.67381 MB\n",
        "New ../data/mini_rey_hip.dat file: 0.219107 MB\n",
        "I am more than okay with uploading the new mini-db now.\n",
        "Our new db is 0.671% of the original.\n"
       ]
      }
     ],
     "prompt_number": 11
    },
    {
     "cell_type": "code",
     "collapsed": false,
     "input": [
      "print('What to do about {}? Confirm it isnt in {}.'.format(missing,db_name))"
     ],
     "language": "python",
     "metadata": {},
     "outputs": [
      {
       "output_type": "stream",
       "stream": "stdout",
       "text": [
        "What to do about 55203? Confirm it isnt in HIP.\n"
       ]
      }
     ],
     "prompt_number": 12
    },
    {
     "cell_type": "markdown",
     "metadata": {},
     "source": [
      "In my case, I have a missing star `55203` in the `hip2.dat` file. A `grep` tells me it indeed isn't in there. `$ cat hip2.dat | grep 55203 -c` says there are `15` occurrences of this sequence, but I see that none are a HIP #. Darn! So close. I suppose let's see what constellation it is in, and earmark this star to get manually added later."
     ]
    },
    {
     "cell_type": "code",
     "collapsed": false,
     "input": [
      "astfile = '../data/ha_rey/ha_rey_english/constellationship.fab'\n",
      "constellations = []\n",
      "with open(astfile) as af:\n",
      "    for line in af:\n",
      "        if(line.startswith('#')):\n",
      "           continue\n",
      "        asterism_data = line.split()\n",
      "        if(len(asterism_data)<3):\n",
      "            continue\n",
      "        # skip name, get number segments and multiply by 2\n",
      "        # then go through each\n",
      "        for i in range(2,int(asterism_data[1])*2):\n",
      "            if(missing==int(asterism_data[i])):\n",
      "                constellations.append((asterism_data[0],line))\n",
      "                print('The missing star {} is in the {} constellation.'.format(missing,asterism_data[0]))\n",
      "                continue\n",
      "print('{} constellation(s) affected.'.format(len(constellations)))"
     ],
     "language": "python",
     "metadata": {},
     "outputs": [
      {
       "output_type": "stream",
       "stream": "stdout",
       "text": [
        "The missing star 55203 is in the Uma constellation.\n",
        "1 constellation(s) affected.\n"
       ]
      }
     ],
     "prompt_number": 13
    },
    {
     "cell_type": "markdown",
     "metadata": {},
     "source": [
      "[ksi UMa](http://simbad.u-strasbg.fr/simbad/sim-id?Ident=HIP+55203) is the culprit.\n",
      "\n",
      "From Wikipedia on [Xi Ursae Majoris](https://en.wikipedia.org/wiki/Xi_Ursae_Majoris):\n",
      "\n",
      "> Xi Ursae Majoris (Xi UMa, \u03be Ursae Majoris, \u03be UMa) is a star system in the constellation Ursa Major. On May 2, 1780, Sir [William Herschel](https://en.wikipedia.org/wiki/William_Herschel) discovered that this was a binary star system, making it the first such system ever discovered. It was the first visual double star for which an orbit was calculated, when it was computed by [F\u00e9lix Savary](https://en.wikipedia.org/wiki/F%C3%A9lix_Savary) in 1828."
     ]
    },
    {
     "cell_type": "code",
     "collapsed": false,
     "input": [],
     "language": "python",
     "metadata": {},
     "outputs": [],
     "prompt_number": 13
    }
   ],
   "metadata": {}
  }
 ]
}