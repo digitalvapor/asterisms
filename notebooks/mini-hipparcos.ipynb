{
 "metadata": {
  "name": "",
  "signature": "sha256:057938ff4313a32ac3aaafc850b0ee68fe81e19e24a65077208df149105bc37f"
 },
 "nbformat": 3,
 "nbformat_minor": 0,
 "worksheets": [
  {
   "cells": [
    {
     "cell_type": "markdown",
     "metadata": {},
     "source": [
      "Dealing with the Hipparcos Catalog, or any other large set of data, I may want to create a mini-database just for the stars that I am going to use. An example could be for creating a map for a segment of sky. Plus, large databases are already hosted elsewhere; there is no reason for me to duplicate them. This will also make any search algorithm we use way faster. \n",
      "\n",
      "While doing this, I want to check the contents of the Hipparcos Catalog file for my personal use, not for validity, but whether it contains all the stars I will need. Scroll down to the bottom to see why this is a good idea.\n",
      "\n",
      "In the [pystaratlas](https://code.google.com/p/pystaratlas/) project, there is a [hip2.dat](https://pystaratlas.googlecode.com/files/hip2.dat) file of the [Hipparcos](https://en.wikipedia.org/wiki/Hipparcos) Catalog. `hip2.dat` is [I/311](http://cdsarc.u-strasbg.fr/viz-bin/Cat?cat=I%2F311) *Hipparcos, the new Reduction of the Raw data* extracted from [hip2.dat.gz](http://cdsarc.u-strasbg.fr/vizier/ftp/cats/I/311/hip2.dat.gz). `hip2.dat` from [pystaratlas](https://code.google.com/p/pystaratlas/) has an extra line for the column headers. The code is immune to using either `hip2.dat` file, but the file at the moment is from pystaratlas. \n",
      "\n",
      "If you look at pystaratlas, they didn't include it in the main repo. This is because it is big. To me 32MB isn't that big by itself, but we try to keep large files out of repos. Github warns at 50MB. Also, this is *way* smaller than the original [The Hipparcos and Tycho Catalogues](http://cdsarc.u-strasbg.fr/viz-bin/Cat?I/239) files. Hip2 is filtered, for what - I need to still read on, and then we filter it again. Also, see the [text download](http://cdsarc.u-strasbg.fr/viz-bin/nph-Cat/txt?I%2F239), if you want just plaintext and no gzip for whatever reason."
     ]
    },
    {
     "cell_type": "code",
     "collapsed": false,
     "input": [
      "# let's get all the Rey asterism stars and then put them in order\n",
      "# to aid the search algorithm by a bit.\n",
      "def get_asterism_stars(ast_file):\n",
      "    # we'll use a set, because it is only of unique entries\n",
      "    ast_stars = set() \n",
      "    with open(ast_file) as af:\n",
      "        for line in af:\n",
      "            # ignore comments\n",
      "            if(line.startswith('#')):\n",
      "               continue\n",
      "            asterism_data = line.split()\n",
      "            # skip blank lines or for some reason stray whatever, \n",
      "            # should actually warn here or deal with the issue\n",
      "            if(len(asterism_data)<3):\n",
      "                continue\n",
      "            # skip name, get number segments and multiply by 2\n",
      "            # then go through each\n",
      "            for i in range(2,int(asterism_data[1])*2):\n",
      "                ast_stars.add(int(asterism_data[i]))\n",
      "    # let's reorder the Rey asterisms in order of HIP # too.\n",
      "    return sorted(list(ast_stars))\n",
      "\n",
      "astfile = '../data/ha_rey/ha_rey_english/constellationship.fab'\n",
      "rey_stars = get_asterism_stars(astfile)\n",
      "num_rey_stars = len(rey_stars)\n",
      "print('The H. A. Rey asterisms use {} stars.'.format(num_rey_stars))"
     ],
     "language": "python",
     "metadata": {},
     "outputs": [
      {
       "output_type": "stream",
       "stream": "stdout",
       "text": [
        "The H. A. Rey asterisms use 792 stars.\n"
       ]
      }
     ],
     "prompt_number": 1
    },
    {
     "cell_type": "code",
     "collapsed": false,
     "input": [
      "def output_mini_db(in_file,out_file):\n",
      "    num_lines = 0\n",
      "    of = open(out_file,'w')\n",
      "    stars_found = set()\n",
      "    # the hipparcos is already in order of HIP #\n",
      "    with open(in_file) as hf:\n",
      "        for line in hf:\n",
      "            star_data = line.split()\n",
      "            if(num_lines==0):\n",
      "                # make immune to a header line\n",
      "                try: \n",
      "                    isinstance(int(star_data[0]),int)\n",
      "                except:\n",
      "                    continue\n",
      "            num_lines += 1\n",
      "            if(int(star_data[0]) in rey_stars):\n",
      "                # save number just to check we got everything at the end\n",
      "                stars_found.add(int(star_data[0]))\n",
      "                of.write(line)\n",
      "        \n",
      "    stars_found = sorted(list(stars_found))\n",
      "    return stars_found, num_lines # number of lines should be number of stars in input file\n",
      "\n",
      "hipfile = '../data/hip2.dat'\n",
      "output = '../data/mini_rey_hip.dat'\n",
      "(hip_stars_found, num_hip_stars) = output_mini_db(hipfile,output)\n",
      "\n",
      "print('There are {} stars in the hip2.dat file.'.format(num_hip_stars))\n",
      "print('We only need {:.3}% of that.'.format(100.*num_rey_stars/num_hip_stars))\n",
      "print('{} stars found to populate the mini-db'.format(len(hip_stars_found)))"
     ],
     "language": "python",
     "metadata": {},
     "outputs": [
      {
       "output_type": "stream",
       "stream": "stdout",
       "text": [
        "There are 117955 stars in the hip2.dat file.\n",
        "We only need 0.671% of that.\n",
        "791 stars found to populate the mini-db\n"
       ]
      }
     ],
     "prompt_number": 2
    },
    {
     "cell_type": "code",
     "collapsed": false,
     "input": [
      "# lets confirm we found all the stars\n",
      "def get_found_missing(hip_found):\n",
      "    if(cmp(hip_found,rey_stars)==0):\n",
      "        print('Hooray, we win! Found all stars.')\n",
      "    else:\n",
      "        print('Double-check if missing stars.')\n",
      "        for i in range(max(len(hip_found),num_rey_stars)):\n",
      "            if(hip_found[i]!=rey_stars[i]):\n",
      "                if(i>0): print('Element # {}, HIP {}:REY {} is okay.'.format(i-1,hip_found[i-1],rey_stars[i-1]))\n",
      "                print('Equality diverges at element # {}, HIP {}:REY {}.'.format(i,hip_found[i],rey_stars[i]))\n",
      "                if(i<min(len(hip_found),num_rey_stars)-1): \n",
      "                    print('For Elements # {}, HIP {}:REY {},'.format(i+1,hip_found[i+1],rey_stars[i+1]))\n",
      "                    if(rey_stars[i+1]==hip_found[i]):\n",
      "                        missing = rey_stars[i]\n",
      "                        db_name = 'HIP'\n",
      "                    else:\n",
      "                        missing = hip_found[i]\n",
      "                        db_name = 'REY'\n",
      "                    print('we see that {} is missing {}.'.format(db_name,missing))\n",
      "                break\n",
      "    with open(output) as mf:\n",
      "        num_found = 0\n",
      "        for i,l in enumerate(mf):\n",
      "            pass\n",
      "        num_found = i+1\n",
      "    return num_found, missing, db_name\n",
      "\n",
      "(num_found, missing_stars, first_missing_db) = get_found_missing(hip_stars_found)\n",
      "print('Our mini HIP catalog has {} stars now.'.format(num_found))"
     ],
     "language": "python",
     "metadata": {},
     "outputs": [
      {
       "output_type": "stream",
       "stream": "stdout",
       "text": [
        "Double-check if missing stars.\n",
        "Element # 349, HIP 54879:REY 54879 is okay.\n",
        "Equality diverges at element # 350, HIP 55219:REY 55203.\n",
        "For Elements # 351, HIP 55282:REY 55219,\n",
        "we see that HIP is missing 55203.\n",
        "Our mini HIP catalog has 791 stars now.\n"
       ]
      }
     ],
     "prompt_number": 3
    },
    {
     "cell_type": "markdown",
     "metadata": {},
     "source": [
      "We find out that there are 784 in the Hipparcos datafile, out of 792 stars that the H.A. Rey asterisms use."
     ]
    },
    {
     "cell_type": "code",
     "collapsed": false,
     "input": [
      "def print_size_diff(in_file,out_file):\n",
      "    import os\n",
      "    orig_file_size = os.stat(in_file).st_size\n",
      "    new_file_size = os.stat(out_file).st_size\n",
      "    print('Original {} file: {} MB\\nNew {} file: {} MB'.format(in_file,orig_file_size/1e6,out_file,new_file_size/1e6))\n",
      "    if(new_file_size/1e6<1):\n",
      "        print('I am more than okay with uploading the new mini-db now.')\n",
      "    print('Our new db is {:.3}% of the original.'.format(100.*new_file_size/orig_file_size))\n",
      "\n",
      "print_size_diff(hipfile,output)"
     ],
     "language": "python",
     "metadata": {},
     "outputs": [
      {
       "output_type": "stream",
       "stream": "stdout",
       "text": [
        "Original ../data/hip2.dat file: 32.67381 MB\n",
        "New ../data/mini_rey_hip.dat file: 0.219107 MB\n",
        "I am more than okay with uploading the new mini-db now.\n",
        "Our new db is 0.671% of the original.\n"
       ]
      }
     ],
     "prompt_number": 4
    },
    {
     "cell_type": "code",
     "collapsed": false,
     "input": [
      "print('What to do about {}? Confirm it isnt in {}.'.format(missing_stars,first_missing_db))"
     ],
     "language": "python",
     "metadata": {},
     "outputs": [
      {
       "output_type": "stream",
       "stream": "stdout",
       "text": [
        "What to do about 55203? Confirm it isnt in HIP.\n"
       ]
      }
     ],
     "prompt_number": 5
    },
    {
     "cell_type": "markdown",
     "metadata": {},
     "source": [
      "In my case, I have a missing star `55203` (among others?) in the `hip2.dat` file. A `grep` tells me it indeed isn't in there. `cat hip2.dat | grep 55203 -c` says there are `15` occurrences of this sequence, but I see that none are a HIP #. Darn! I suppose let's see what constellation it is in, and earmark this star to get manually added later."
     ]
    },
    {
     "cell_type": "code",
     "collapsed": false,
     "input": [
      "def get_consts_of_stars(stars_to_find, ast_f):\n",
      "    constellations = set()\n",
      "    with open(ast_f) as af:\n",
      "        for line in af:\n",
      "            if(line.startswith('#')):\n",
      "               continue\n",
      "            asterism_data = line.split()\n",
      "            if(len(asterism_data)<3):\n",
      "                continue\n",
      "            # skip name, get number segments and multiply by 2\n",
      "            # then go through each\n",
      "            for i in range(2,int(asterism_data[1])*2):\n",
      "                if(stars_to_find==int(asterism_data[i])):\n",
      "                    constellations.add((asterism_data[0],line))\n",
      "                    print('The missing star {} is in the {} constellation.'.format(stars_to_find,asterism_data[0]))\n",
      "                    continue\n",
      "            constellation_list = sorted(list(constellations))\n",
      "    return constellation_list\n",
      "\n",
      "astfile = '../data/ha_rey/ha_rey_english/constellationship.fab'\n",
      "affected_constellations = get_consts_of_stars(missing_stars, astfile)\n",
      "print('{} constellation(s) affected.'.format(len(affected_constellations)))"
     ],
     "language": "python",
     "metadata": {},
     "outputs": [
      {
       "output_type": "stream",
       "stream": "stdout",
       "text": [
        "The missing star 55203 is in the Uma constellation.\n",
        "1 constellation(s) affected.\n"
       ]
      }
     ],
     "prompt_number": 6
    },
    {
     "cell_type": "markdown",
     "metadata": {},
     "source": [
      "The first culprit we spot, HIP 55203, is [ksi UMa](http://simbad.u-strasbg.fr/simbad/sim-id?Ident=HIP+55203).\n",
      "\n",
      "From Wikipedia on [Xi Ursae Majoris](https://en.wikipedia.org/wiki/Xi_Ursae_Majoris):\n",
      "\n",
      "> Xi Ursae Majoris (Xi UMa, \u03be Ursae Majoris, \u03be UMa) is a star system in the constellation Ursa Major. On May 2, 1780, Sir [William Herschel](https://en.wikipedia.org/wiki/William_Herschel) discovered that this was a binary star system, making it the first such system ever discovered. It was the first visual double star for which an orbit was calculated, when it was computed by [F\u00e9lix Savary](https://en.wikipedia.org/wiki/F%C3%A9lix_Savary) in 1828.\n",
      "\n",
      "TODO: what is hip2's filter criteria? i know some stars are filtered because they don't have enough information."
     ]
    },
    {
     "cell_type": "code",
     "collapsed": false,
     "input": [],
     "language": "python",
     "metadata": {},
     "outputs": [],
     "prompt_number": 6
    }
   ],
   "metadata": {}
  }
 ]
}